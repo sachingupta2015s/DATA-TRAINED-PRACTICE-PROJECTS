{
 "cells": [
  {
   "cell_type": "markdown",
   "metadata": {},
   "source": [
    "# Advertising Sales Channel Prediction Assignment"
   ]
  },
  {
   "cell_type": "markdown",
   "metadata": {},
   "source": [
    "## Introduction"
   ]
  },
  {
   "cell_type": "markdown",
   "metadata": {},
   "source": [
    "### Sales play a vital role in any business model. An increase in sales leads to increase in revenue of a busniess. How sales will increase. There are various method but the most effective one is advertisment. In this project i have tried to check through which mode of advirtsment (tv,newspaper,radio) sales increase."
   ]
  },
  {
   "cell_type": "code",
   "execution_count": 7,
   "metadata": {},
   "outputs": [
    {
     "name": "stderr",
     "output_type": "stream",
     "text": [
      "UsageError: Line magic function `%` not found.\n"
     ]
    }
   ],
   "source": [
    "# import libraries\n",
    "\n",
    "import pandas as pd\n",
    "import numpy as np\n",
    "import matplotlib.pyplot as plt\n",
    "import seaborn as sns\n",
    "\n",
    "\n",
    "# preprocession, normalizing\n",
    "\n",
    "from sklearn.preprocessing import LabelEncoder\n",
    "from sklearn.preprocessing import StandardScaler\n",
    "\n",
    "# for multicollinearity\n",
    "\n",
    "from statsmodels.stats.outliers_influence import variance_inflation_factor\n",
    "\n",
    "# models\n",
    "\n",
    "from sklearn.model_selection import train_test_split\n",
    "from sklearn.linear_model import LinearRegression\n",
    "from sklearn.tree import DecisionTreeRegressor\n",
    "from sklearn.ensemble import RandomForestRegressor\n",
    "from sklearn.model_selection import KFold,cross_val_score\n",
    "\n",
    "\n",
    "# metrics\n",
    "\n",
    "from sklearn.metrics import accuracy_score\n",
    "\n",
    "import warnings\n",
    "warnings.filterwarnings('ignore')\n",
    "% matplotlib inline"
   ]
  },
  {
   "cell_type": "code",
   "execution_count": 8,
   "metadata": {
    "scrolled": false
   },
   "outputs": [
    {
     "data": {
      "text/html": [
       "<div>\n",
       "<style scoped>\n",
       "    .dataframe tbody tr th:only-of-type {\n",
       "        vertical-align: middle;\n",
       "    }\n",
       "\n",
       "    .dataframe tbody tr th {\n",
       "        vertical-align: top;\n",
       "    }\n",
       "\n",
       "    .dataframe thead th {\n",
       "        text-align: right;\n",
       "    }\n",
       "</style>\n",
       "<table border=\"1\" class=\"dataframe\">\n",
       "  <thead>\n",
       "    <tr style=\"text-align: right;\">\n",
       "      <th></th>\n",
       "      <th>Unnamed: 0</th>\n",
       "      <th>TV</th>\n",
       "      <th>radio</th>\n",
       "      <th>newspaper</th>\n",
       "      <th>sales</th>\n",
       "    </tr>\n",
       "  </thead>\n",
       "  <tbody>\n",
       "    <tr>\n",
       "      <th>0</th>\n",
       "      <td>1</td>\n",
       "      <td>230.1</td>\n",
       "      <td>37.8</td>\n",
       "      <td>69.2</td>\n",
       "      <td>22.1</td>\n",
       "    </tr>\n",
       "    <tr>\n",
       "      <th>1</th>\n",
       "      <td>2</td>\n",
       "      <td>44.5</td>\n",
       "      <td>39.3</td>\n",
       "      <td>45.1</td>\n",
       "      <td>10.4</td>\n",
       "    </tr>\n",
       "    <tr>\n",
       "      <th>2</th>\n",
       "      <td>3</td>\n",
       "      <td>17.2</td>\n",
       "      <td>45.9</td>\n",
       "      <td>69.3</td>\n",
       "      <td>9.3</td>\n",
       "    </tr>\n",
       "    <tr>\n",
       "      <th>3</th>\n",
       "      <td>4</td>\n",
       "      <td>151.5</td>\n",
       "      <td>41.3</td>\n",
       "      <td>58.5</td>\n",
       "      <td>18.5</td>\n",
       "    </tr>\n",
       "    <tr>\n",
       "      <th>4</th>\n",
       "      <td>5</td>\n",
       "      <td>180.8</td>\n",
       "      <td>10.8</td>\n",
       "      <td>58.4</td>\n",
       "      <td>12.9</td>\n",
       "    </tr>\n",
       "  </tbody>\n",
       "</table>\n",
       "</div>"
      ],
      "text/plain": [
       "   Unnamed: 0     TV  radio  newspaper  sales\n",
       "0           1  230.1   37.8       69.2   22.1\n",
       "1           2   44.5   39.3       45.1   10.4\n",
       "2           3   17.2   45.9       69.3    9.3\n",
       "3           4  151.5   41.3       58.5   18.5\n",
       "4           5  180.8   10.8       58.4   12.9"
      ]
     },
     "execution_count": 8,
     "metadata": {},
     "output_type": "execute_result"
    }
   ],
   "source": [
    "# Reading the dataset\n",
    "\n",
    "sale = pd.read_csv('Advertising.csv')\n",
    "sale.head()"
   ]
  },
  {
   "cell_type": "markdown",
   "metadata": {},
   "source": [
    "### from the above table we can find out that sales is the label and rest TV, Radio and Newspaper is the features."
   ]
  },
  {
   "cell_type": "code",
   "execution_count": 9,
   "metadata": {},
   "outputs": [
    {
     "data": {
      "text/plain": [
       "(200, 5)"
      ]
     },
     "execution_count": 9,
     "metadata": {},
     "output_type": "execute_result"
    }
   ],
   "source": [
    "sale.shape"
   ]
  },
  {
   "cell_type": "markdown",
   "metadata": {},
   "source": [
    "### There are all together 200 rows and 5 columns."
   ]
  },
  {
   "cell_type": "markdown",
   "metadata": {},
   "source": [
    "## EDA "
   ]
  },
  {
   "cell_type": "code",
   "execution_count": 10,
   "metadata": {
    "scrolled": true
   },
   "outputs": [
    {
     "name": "stdout",
     "output_type": "stream",
     "text": [
      "<class 'pandas.core.frame.DataFrame'>\n",
      "RangeIndex: 200 entries, 0 to 199\n",
      "Data columns (total 5 columns):\n",
      " #   Column      Non-Null Count  Dtype  \n",
      "---  ------      --------------  -----  \n",
      " 0   Unnamed: 0  200 non-null    int64  \n",
      " 1   TV          200 non-null    float64\n",
      " 2   radio       200 non-null    float64\n",
      " 3   newspaper   200 non-null    float64\n",
      " 4   sales       200 non-null    float64\n",
      "dtypes: float64(4), int64(1)\n",
      "memory usage: 7.9 KB\n"
     ]
    }
   ],
   "source": [
    "# lets find out is there any null values in all the cloumns\n",
    "\n",
    "pd.set_option('display.max_rows',None)\n",
    "\n",
    "sale.info()"
   ]
  },
  {
   "cell_type": "markdown",
   "metadata": {},
   "source": [
    "### From the above table we can see that there is no null values in data set."
   ]
  },
  {
   "cell_type": "code",
   "execution_count": 11,
   "metadata": {},
   "outputs": [],
   "source": [
    "# removing the duplicates\n",
    "\n",
    "sale.drop_duplicates(inplace = True)"
   ]
  },
  {
   "cell_type": "markdown",
   "metadata": {},
   "source": [
    "### Used the duplicates command to remove any duplicates data from the datset if any."
   ]
  },
  {
   "cell_type": "code",
   "execution_count": 12,
   "metadata": {},
   "outputs": [],
   "source": [
    "sale.drop('Unnamed: 0', axis=1, inplace=True)"
   ]
  },
  {
   "cell_type": "markdown",
   "metadata": {},
   "source": [
    "### Removed the unwanted columns from the datset that is unnamed."
   ]
  },
  {
   "cell_type": "code",
   "execution_count": 13,
   "metadata": {
    "scrolled": false
   },
   "outputs": [
    {
     "data": {
      "text/plain": [
       "(200, 4)"
      ]
     },
     "execution_count": 13,
     "metadata": {},
     "output_type": "execute_result"
    }
   ],
   "source": [
    "sale.shape"
   ]
  },
  {
   "cell_type": "markdown",
   "metadata": {},
   "source": [
    "### After removing the duplicates data and unnamed columns we have 200 rows and 4 columns."
   ]
  },
  {
   "cell_type": "code",
   "execution_count": 14,
   "metadata": {
    "scrolled": true
   },
   "outputs": [
    {
     "data": {
      "text/html": [
       "<div>\n",
       "<style scoped>\n",
       "    .dataframe tbody tr th:only-of-type {\n",
       "        vertical-align: middle;\n",
       "    }\n",
       "\n",
       "    .dataframe tbody tr th {\n",
       "        vertical-align: top;\n",
       "    }\n",
       "\n",
       "    .dataframe thead th {\n",
       "        text-align: right;\n",
       "    }\n",
       "</style>\n",
       "<table border=\"1\" class=\"dataframe\">\n",
       "  <thead>\n",
       "    <tr style=\"text-align: right;\">\n",
       "      <th></th>\n",
       "      <th>TV</th>\n",
       "      <th>radio</th>\n",
       "      <th>newspaper</th>\n",
       "      <th>sales</th>\n",
       "    </tr>\n",
       "  </thead>\n",
       "  <tbody>\n",
       "    <tr>\n",
       "      <th>count</th>\n",
       "      <td>200.000000</td>\n",
       "      <td>200.000000</td>\n",
       "      <td>200.000000</td>\n",
       "      <td>200.000000</td>\n",
       "    </tr>\n",
       "    <tr>\n",
       "      <th>mean</th>\n",
       "      <td>147.042500</td>\n",
       "      <td>23.264000</td>\n",
       "      <td>30.554000</td>\n",
       "      <td>14.022500</td>\n",
       "    </tr>\n",
       "    <tr>\n",
       "      <th>std</th>\n",
       "      <td>85.854236</td>\n",
       "      <td>14.846809</td>\n",
       "      <td>21.778621</td>\n",
       "      <td>5.217457</td>\n",
       "    </tr>\n",
       "    <tr>\n",
       "      <th>min</th>\n",
       "      <td>0.700000</td>\n",
       "      <td>0.000000</td>\n",
       "      <td>0.300000</td>\n",
       "      <td>1.600000</td>\n",
       "    </tr>\n",
       "    <tr>\n",
       "      <th>25%</th>\n",
       "      <td>74.375000</td>\n",
       "      <td>9.975000</td>\n",
       "      <td>12.750000</td>\n",
       "      <td>10.375000</td>\n",
       "    </tr>\n",
       "    <tr>\n",
       "      <th>50%</th>\n",
       "      <td>149.750000</td>\n",
       "      <td>22.900000</td>\n",
       "      <td>25.750000</td>\n",
       "      <td>12.900000</td>\n",
       "    </tr>\n",
       "    <tr>\n",
       "      <th>75%</th>\n",
       "      <td>218.825000</td>\n",
       "      <td>36.525000</td>\n",
       "      <td>45.100000</td>\n",
       "      <td>17.400000</td>\n",
       "    </tr>\n",
       "    <tr>\n",
       "      <th>max</th>\n",
       "      <td>296.400000</td>\n",
       "      <td>49.600000</td>\n",
       "      <td>114.000000</td>\n",
       "      <td>27.000000</td>\n",
       "    </tr>\n",
       "  </tbody>\n",
       "</table>\n",
       "</div>"
      ],
      "text/plain": [
       "               TV       radio   newspaper       sales\n",
       "count  200.000000  200.000000  200.000000  200.000000\n",
       "mean   147.042500   23.264000   30.554000   14.022500\n",
       "std     85.854236   14.846809   21.778621    5.217457\n",
       "min      0.700000    0.000000    0.300000    1.600000\n",
       "25%     74.375000    9.975000   12.750000   10.375000\n",
       "50%    149.750000   22.900000   25.750000   12.900000\n",
       "75%    218.825000   36.525000   45.100000   17.400000\n",
       "max    296.400000   49.600000  114.000000   27.000000"
      ]
     },
     "execution_count": 14,
     "metadata": {},
     "output_type": "execute_result"
    }
   ],
   "source": [
    "sale.describe()"
   ]
  },
  {
   "cell_type": "markdown",
   "metadata": {},
   "source": [
    "### From the above dataset we can see that there are skewness in dataset. Moreover the min data for radio is showing zero that needs to rectify."
   ]
  },
  {
   "cell_type": "code",
   "execution_count": 15,
   "metadata": {},
   "outputs": [],
   "source": [
    "sale['radio'] = sale['radio'].replace(0,sale['radio'].mean())"
   ]
  },
  {
   "cell_type": "markdown",
   "metadata": {},
   "source": [
    "### Replacing the zero data from radio columns and filling it with the help of mean."
   ]
  },
  {
   "cell_type": "code",
   "execution_count": 16,
   "metadata": {
    "scrolled": true
   },
   "outputs": [
    {
     "data": {
      "text/html": [
       "<div>\n",
       "<style scoped>\n",
       "    .dataframe tbody tr th:only-of-type {\n",
       "        vertical-align: middle;\n",
       "    }\n",
       "\n",
       "    .dataframe tbody tr th {\n",
       "        vertical-align: top;\n",
       "    }\n",
       "\n",
       "    .dataframe thead th {\n",
       "        text-align: right;\n",
       "    }\n",
       "</style>\n",
       "<table border=\"1\" class=\"dataframe\">\n",
       "  <thead>\n",
       "    <tr style=\"text-align: right;\">\n",
       "      <th></th>\n",
       "      <th>TV</th>\n",
       "      <th>radio</th>\n",
       "      <th>newspaper</th>\n",
       "      <th>sales</th>\n",
       "    </tr>\n",
       "  </thead>\n",
       "  <tbody>\n",
       "    <tr>\n",
       "      <th>count</th>\n",
       "      <td>200.000000</td>\n",
       "      <td>200.000000</td>\n",
       "      <td>200.000000</td>\n",
       "      <td>200.000000</td>\n",
       "    </tr>\n",
       "    <tr>\n",
       "      <th>mean</th>\n",
       "      <td>147.042500</td>\n",
       "      <td>23.380320</td>\n",
       "      <td>30.554000</td>\n",
       "      <td>14.022500</td>\n",
       "    </tr>\n",
       "    <tr>\n",
       "      <th>std</th>\n",
       "      <td>85.854236</td>\n",
       "      <td>14.754473</td>\n",
       "      <td>21.778621</td>\n",
       "      <td>5.217457</td>\n",
       "    </tr>\n",
       "    <tr>\n",
       "      <th>min</th>\n",
       "      <td>0.700000</td>\n",
       "      <td>0.300000</td>\n",
       "      <td>0.300000</td>\n",
       "      <td>1.600000</td>\n",
       "    </tr>\n",
       "    <tr>\n",
       "      <th>25%</th>\n",
       "      <td>74.375000</td>\n",
       "      <td>10.075000</td>\n",
       "      <td>12.750000</td>\n",
       "      <td>10.375000</td>\n",
       "    </tr>\n",
       "    <tr>\n",
       "      <th>50%</th>\n",
       "      <td>149.750000</td>\n",
       "      <td>23.282000</td>\n",
       "      <td>25.750000</td>\n",
       "      <td>12.900000</td>\n",
       "    </tr>\n",
       "    <tr>\n",
       "      <th>75%</th>\n",
       "      <td>218.825000</td>\n",
       "      <td>36.525000</td>\n",
       "      <td>45.100000</td>\n",
       "      <td>17.400000</td>\n",
       "    </tr>\n",
       "    <tr>\n",
       "      <th>max</th>\n",
       "      <td>296.400000</td>\n",
       "      <td>49.600000</td>\n",
       "      <td>114.000000</td>\n",
       "      <td>27.000000</td>\n",
       "    </tr>\n",
       "  </tbody>\n",
       "</table>\n",
       "</div>"
      ],
      "text/plain": [
       "               TV       radio   newspaper       sales\n",
       "count  200.000000  200.000000  200.000000  200.000000\n",
       "mean   147.042500   23.380320   30.554000   14.022500\n",
       "std     85.854236   14.754473   21.778621    5.217457\n",
       "min      0.700000    0.300000    0.300000    1.600000\n",
       "25%     74.375000   10.075000   12.750000   10.375000\n",
       "50%    149.750000   23.282000   25.750000   12.900000\n",
       "75%    218.825000   36.525000   45.100000   17.400000\n",
       "max    296.400000   49.600000  114.000000   27.000000"
      ]
     },
     "execution_count": 16,
     "metadata": {},
     "output_type": "execute_result"
    }
   ],
   "source": [
    "sale.describe()"
   ]
  },
  {
   "cell_type": "markdown",
   "metadata": {},
   "source": [
    "## scatter plot"
   ]
  },
  {
   "cell_type": "code",
   "execution_count": 17,
   "metadata": {
    "scrolled": true
   },
   "outputs": [
    {
     "data": {
      "image/png": "[encoded data removed]",
      "text/plain": [
       "<Figure size 1152x576 with 3 Axes>"
      ]
     },
     "metadata": {
      "needs_background": "light"
     },
     "output_type": "display_data"
    }
   ],
   "source": [
    "fig,axs = plt.subplots(1,3,sharey = True)\n",
    "sale.plot(kind='scatter',x='TV',y='sales',ax=axs[0],figsize=(16,8))\n",
    "sale.plot(kind='scatter',x='radio',y='sales',ax=axs[1])\n",
    "sale.plot(kind='scatter',x='newspaper',y='sales',ax=axs[2])\n",
    "fig.savefig('testdata.jpg')"
   ]
  },
  {
   "cell_type": "markdown",
   "metadata": {},
   "source": [
    "### From the above scatter plot we can see that TV and radio are effective method for increasing the sales but newspaper is not good option for Advertisment"
   ]
  },
  {
   "cell_type": "markdown",
   "metadata": {},
   "source": [
    "### Now we can see that there is no zero values data in the datset. Still we need to work on skewness."
   ]
  },
  {
   "cell_type": "markdown",
   "metadata": {},
   "source": [
    "## Distribution plot"
   ]
  },
  {
   "cell_type": "code",
   "execution_count": 18,
   "metadata": {
    "scrolled": false
   },
   "outputs": [
    {
     "data": {
      "image/png": "[encoded data removed]",
      "text/plain": [
       "<Figure size 1800x1440 with 4 Axes>"
      ]
     },
     "metadata": {},
     "output_type": "display_data"
    }
   ],
   "source": [
    "# removed the skewness\n",
    "\n",
    "plt.figure(figsize=(25,20), facecolor='white')\n",
    "plotnumber = 1\n",
    "\n",
    "for column in sale:\n",
    "    if plotnumber<=4:\n",
    "        ax=plt.subplot(2,2,plotnumber)\n",
    "        sns.distplot(sale[column])\n",
    "        plt.xlabel(column,fontsize=25)\n",
    "    plotnumber+=1\n",
    "plt.tight_layout()"
   ]
  },
  {
   "cell_type": "markdown",
   "metadata": {},
   "source": [
    "### With the help of distribution plot we can detect skewness from the dataset."
   ]
  },
  {
   "cell_type": "markdown",
   "metadata": {},
   "source": [
    "## Z score method"
   ]
  },
  {
   "cell_type": "code",
   "execution_count": 19,
   "metadata": {},
   "outputs": [
    {
     "name": "stdout",
     "output_type": "stream",
     "text": [
      "[[9.69852266e-01 9.79761515e-01 1.77894547e+00 1.55205313e+00]\n",
      " [1.19737623e+00 1.08168072e+00 6.69578760e-01 6.96046111e-01]\n",
      " [1.51615499e+00 1.53012520e+00 1.78354865e+00 9.07405869e-01]\n",
      " [5.20496822e-02 1.21757298e+00 1.28640506e+00 8.60330287e-01]\n",
      " [3.94182198e-01 8.54784113e-01 1.28180188e+00 2.15683025e-01]\n",
      " [1.61540845e+00 1.73396361e+00 2.04592999e+00 1.31091086e+00]\n",
      " [1.04557682e+00 6.40030843e-01 3.24708413e-01 4.27042783e-01]\n",
      " [3.13436589e-01 2.56858131e-01 8.72486994e-01 1.58039455e-01]\n",
      " [1.61657614e+00 1.44591548e+00 1.36042422e+00 1.77205942e+00]\n",
      " [6.16042873e-01 1.41194241e+00 4.30581584e-01 6.57617064e-01]\n",
      " [9.45155670e-01 1.19451478e+00 2.92486143e-01 1.04190753e+00]\n",
      " [7.90028350e-01 4.21048605e-02 1.22232878e+00 6.48970529e-01]\n",
      " [1.43908760e+00 7.96306952e-01 1.62704048e+00 9.26620392e-01]\n",
      " [5.78501712e-01 1.07221174e+00 1.07502697e+00 8.30547775e-01]\n",
      " [6.66253447e-01 6.46825456e-01 7.11007392e-01 9.56402904e-01]\n",
      " [5.64664612e-01 1.65242824e+00 1.02862691e+00 1.60969670e+00]\n",
      " [9.25304978e-01 8.98226153e-01 3.84117072e+00 2.92541119e-01]\n",
      " [1.56887609e+00 1.10206456e+00 1.16211917e+00 1.99398717e+00]\n",
      " [9.08957349e-01 1.95706610e-01 5.64073843e-01 5.23115400e-01]\n",
      " [3.00679600e-03 3.53102471e-02 5.27248393e-01 1.10963873e-01]\n",
      " [8.33232798e-01 2.93505558e-01 1.05164281e+00 7.64257669e-01]\n",
      " [1.05509347e+00 1.24207708e+00 3.24708413e-01 2.92541119e-01]\n",
      " [1.56286250e+00 5.08258828e-01 8.76721921e-01 1.61834324e+00]\n",
      " [9.48833887e-01 4.40312693e-01 2.00422516e-01 2.83894584e-01]\n",
      " [9.89527805e-01 7.32481071e-01 5.64073843e-01 8.30547775e-01]\n",
      " [1.35285385e+00 1.35079089e+00 5.08835667e-01 3.88613736e-01]\n",
      " [4.83714657e-02 4.02219373e-01 8.26455181e-01 1.87821967e-01]\n",
      " [1.08662104e+00 4.53901920e-01 3.52327501e-01 3.60752677e-01]\n",
      " [1.18820988e+00 2.52737877e-01 3.52327501e-01 9.37188380e-01]\n",
      " [8.92609721e-01 5.01464214e-01 4.71641962e-01 6.76831588e-01]\n",
      " [1.70316018e+00 3.34273238e-01 5.82118314e-01 1.41755147e+00]\n",
      " [3.98677796e-01 4.06339626e-01 3.70371972e-01 4.07828260e-01]\n",
      " [5.82004775e-01 1.48668316e+00 2.55016247e-02 8.49762299e-01]\n",
      " [1.38438142e+00 2.29679677e-01 1.39264649e+00 6.48970529e-01]\n",
      " [5.99520091e-01 1.49347778e+00 1.06582061e+00 8.68976822e-01]\n",
      " [1.67747105e+00 1.31002321e+00 1.01518562e+00 2.34897549e-01]\n",
      " [1.39956136e+00 1.38743832e+00 1.17629696e+00 2.18613240e+00]\n",
      " [8.44734522e-01 1.76793667e+00 6.97197848e-01 1.30178396e-01]\n",
      " [1.21372386e+00 2.25559423e-01 2.09260624e-01 7.53689682e-01]\n",
      " [9.45330823e-01 9.72966901e-01 6.65620024e-02 1.43676599e+00]\n",
      " [6.47570443e-01 7.34035679e-02 4.81492770e-02 4.95254341e-01]\n",
      " [3.49810063e-01 6.80798524e-01 3.74975153e-01 5.91326959e-01]\n",
      " [1.71133400e+00 2.93505558e-01 1.32359877e+00 1.28304980e+00]\n",
      " [6.98948705e-01 1.01785484e+00 1.91216154e-01 2.15683025e-01]\n",
      " [1.42390765e+00 1.57613289e-01 5.86721496e-01 1.06112206e+00]\n",
      " [3.27623995e-01 5.98143410e-02 4.35460956e-02 1.68607443e-01]\n",
      " [6.69581357e-01 9.15935634e-01 2.36879713e-01 6.57617064e-01]\n",
      " [1.08428567e+00 1.23116221e+00 5.54867481e-01 1.76341289e+00]\n",
      " [9.35989321e-01 5.15053441e-01 8.90531465e-01 1.49392920e-01]\n",
      " [9.35814168e-01 7.93632592e-01 2.87514708e-01 8.30547775e-01]\n",
      " [6.16042873e-01 1.37796935e+00 1.86244718e-01 5.03900877e-01]\n",
      " [5.44638766e-01 9.36319474e-01 1.24074150e+00 6.38402541e-01]\n",
      " [8.09879042e-01 1.24475144e+00 4.16403786e-01 1.64812575e+00]\n",
      " [4.15200577e-01 1.55050904e+00 1.29561142e+00 1.37912242e+00]\n",
      " [1.35051848e+00 3.68246305e-01 6.74550196e-01 1.18697718e+00]\n",
      " [6.05533683e-01 1.76793667e+00 1.35545278e+00 1.85948550e+00]\n",
      " [1.63175608e+00 3.20684011e-01 4.99261050e-01 1.63755776e+00]\n",
      " [1.26606546e-01 2.84036584e-01 6.42327927e-01 1.58039455e-01]\n",
      " [7.44488528e-01 1.78152590e+00 3.28943340e-01 1.87870003e+00]\n",
      " [7.43320840e-01 4.15808600e-01 9.78360166e-01 8.41115763e-01]\n",
      " [1.09228433e+00 1.45271010e+00 4.21375221e-01 1.13798015e+00]\n",
      " [1.33417085e+00 1.31269757e+00 1.11148417e+00 1.95555812e+00]\n",
      " [1.07727954e+00 5.35437282e-01 1.49787521e-01 3.22323631e-01]\n",
      " [5.17781948e-01 4.22603213e-01 1.01978880e+00 4.32326777e-03]\n",
      " [1.86158622e-01 1.31949219e+00 7.61366196e-02 7.64257669e-01]\n",
      " [9.11292725e-01 9.56703315e-01 1.36502740e+00 9.07405869e-01]\n",
      " [1.34917564e+00 8.28725412e-02 1.30518604e+00 8.68976822e-01]\n",
      " [9.04082253e-02 6.03383416e-01 9.36931533e-01 1.19610408e-01]\n",
      " [1.05509347e+00 2.79916331e-01 9.00106083e-01 9.37188380e-01]\n",
      " [8.14549794e-01 1.39423293e+00 1.54390703e-01 1.59048218e+00]\n",
      " [6.07869059e-01 4.90549347e-01 3.74975153e-01 8.21901240e-01]\n",
      " [4.34876116e-01 6.16972643e-01 5.27524584e-02 3.11755643e-01]\n",
      " [1.40405696e+00 6.53620070e-01 5.18042030e-01 1.00347849e+00]\n",
      " [2.06009314e-01 1.20130940e+00 3.43397329e-02 5.80758971e-01]\n",
      " [7.74848409e-01 8.28725412e-02 8.03439274e-01 5.72112435e-01]\n",
      " [1.51965805e+00 1.38064371e+00 2.70878810e+00 1.02269301e+00]\n",
      " [1.39588315e+00 1.47988855e+00 4.53597491e-01 1.36855443e+00]\n",
      " [3.09933525e-01 3.47862465e-01 7.52804279e-01 3.41057791e-02]\n",
      " [1.65394214e+00 4.42987053e-01 9.73756984e-01 1.67598681e+00]\n",
      " [3.62479475e-01 1.06541713e+00 3.43121138e-01 5.80758971e-01]\n",
      " [8.24883830e-01 2.25559423e-01 3.79946589e-01 4.27042783e-01]\n",
      " [1.08311798e+00 1.31002321e+00 2.92117889e-01 3.30970166e-01]\n",
      " [8.37728396e-01 2.09295837e-01 8.95779092e-02 5.23115400e-01]\n",
      " [9.18298852e-01 1.43500061e+00 2.32276531e-01 8.11813615e-02]\n",
      " [7.76016097e-01 1.33308141e+00 1.49419267e-01 1.47519504e+00]\n",
      " [5.38975481e-01 3.38393492e-01 1.61783412e+00 2.26251013e-01]\n",
      " [8.26051518e-01 2.79916331e-01 6.69947015e-01 3.88613736e-01]\n",
      " [4.24366926e-01 1.17001069e+00 1.50275459e+00 3.79967201e-01]\n",
      " [6.85928986e-01 1.44024062e-01 1.97227908e+00 2.15683025e-01]\n",
      " [4.34876116e-01 1.65922286e+00 9.59579186e-01 5.14468865e-01]\n",
      " [1.48792614e-01 1.25566631e+00 9.78360166e-01 5.42329924e-01]\n",
      " [1.38303858e+00 1.48668316e+00 1.12593816e-01 1.29169634e+00]\n",
      " [8.25058983e-01 6.87593137e-01 1.30942097e+00 1.03326100e+00]\n",
      " [1.21273132e+00 8.91431540e-01 1.92164409e+00 1.57126765e+00]\n",
      " [4.62900623e-01 6.37356483e-01 9.04709264e-01 4.84686354e-01]\n",
      " [1.89836839e-01 5.58495482e-01 1.02862691e+00 5.52897912e-01]\n",
      " [5.90353742e-01 1.35079089e+00 1.13486833e+00 4.46257307e-01]\n",
      " [4.42057396e-01 1.61733543e-01 3.93756133e-01 2.83894584e-01]\n",
      " [1.66579418e+00 1.28551912e+00 9.50372823e-01 2.18613240e+00]\n",
      " [1.38283424e-01 1.24475144e+00 7.06404211e-01 6.10541482e-01]\n",
      " [8.79940308e-01 1.29643399e+00 8.85928284e-01 4.46257307e-01]\n",
      " [1.74402926e+00 8.77842313e-01 3.23815396e+00 1.87870003e+00]\n",
      " [1.55486384e+00 9.02346407e-01 4.21375221e-01 1.49392920e-01]\n",
      " [4.77088029e-01 4.19928853e-01 5.82486569e-01 1.30178396e-01]\n",
      " [1.06443498e+00 7.41950044e-01 1.16248742e+00 1.28304980e+00]\n",
      " [1.06755854e-01 1.56409827e+00 1.30942097e+00 9.94831951e-01]\n",
      " [1.42507534e+00 8.41194886e-01 3.93111688e-02 1.31091086e+00]\n",
      " [6.61407543e-01 1.56821852e+00 3.38517957e-01 1.02269301e+00]\n",
      " [1.56403019e+00 1.56142391e+00 2.28041604e-01 1.67598681e+00]\n",
      " [1.26527727e+00 2.39148650e-01 1.15328106e+00 1.11011909e+00]\n",
      " [9.19641692e-01 1.03144406e+00 1.19434143e+00 1.19610408e-01]\n",
      " [1.10530405e+00 9.93350742e-01 3.38517957e-01 1.49440956e+00]\n",
      " [3.34630122e-01 5.42231895e-01 1.29597968e+00 1.48912557e-02]\n",
      " [7.30476274e-01 1.88911996e-01 9.13915627e-01 3.60752677e-01]\n",
      " [8.03865450e-01 1.59127672e+00 1.81641536e-01 1.10963873e-01]\n",
      " [8.40063771e-01 7.89512339e-01 1.01942054e+00 2.73326596e-01]\n",
      " [9.15759131e-02 6.16972643e-01 2.28041604e-01 3.50184689e-01]\n",
      " [8.24883830e-01 1.53424546e+00 7.25185191e-01 8.88191346e-01]\n",
      " [2.49213762e-01 9.18609994e-01 2.23926360e+00 3.60752677e-01]\n",
      " [1.49046586e+00 5.01464214e-01 3.79946589e-01 1.42619800e+00]\n",
      " [6.70544700e-02 2.32354037e-01 7.20213755e-01 2.83894584e-01]\n",
      " [1.49747198e+00 1.14171248e-01 9.13547372e-01 1.34933991e+00]\n",
      " [8.98623313e-01 1.42553164e+00 6.88359740e-01 4.65471830e-01]\n",
      " [2.79573643e-01 7.62333885e-01 8.35661544e-01 2.26251013e-01]\n",
      " [9.62846140e-01 6.06057776e-01 2.00910454e+00 1.09090457e+00]\n",
      " [6.98773552e-01 7.86837979e-01 2.14232060e-01 6.57617064e-01]\n",
      " [1.62591764e+00 1.05450226e+00 9.22753735e-01 1.42619800e+00]\n",
      " [7.80511695e-01 7.90349435e-03 9.82963347e-01 1.00347849e+00]\n",
      " [8.55418865e-01 1.74075822e+00 1.25915423e+00 2.05163074e+00]\n",
      " [1.02105537e+00 7.73248752e-01 5.77515133e-01 8.30547775e-01]\n",
      " [1.70882347e+00 1.10206456e+00 1.00597925e+00 2.38692417e+00]\n",
      " [1.37971067e+00 1.39155857e+00 5.72911952e-01 2.54112072e-01]\n",
      " [1.61891151e+00 2.59532490e-01 1.30978922e+00 1.59912871e+00]\n",
      " [8.49580427e-01 6.87593137e-01 6.69578760e-01 1.07169004e+00]\n",
      " [1.28612050e+00 1.03411842e+00 1.61323094e+00 6.19188018e-01]\n",
      " [1.15300409e+00 1.60486595e+00 1.01518562e+00 4.65471830e-01]\n",
      " [1.41806922e+00 1.06129688e+00 9.78360166e-01 8.68976822e-01]\n",
      " [1.47896413e+00 3.75040919e-01 1.34164324e+00 1.30226433e+00]\n",
      " [1.21489154e+00 1.71202516e-01 4.62803854e-01 8.49762299e-01]\n",
      " [4.42057396e-01 1.39423293e+00 1.32820195e+00 1.28304980e+00]\n",
      " [8.59914463e-01 4.33518080e-01 8.12645637e-01 5.99973494e-01]\n",
      " [5.44813920e-01 8.16690792e-01 2.07354907e+00 9.94831951e-01]\n",
      " [8.57754241e-01 6.67209297e-01 3.38149702e-01 1.16776266e+00]\n",
      " [4.95595880e-01 1.20130940e+00 1.77038355e-01 6.96046111e-01]\n",
      " [5.93681653e-01 5.82999576e-01 3.84181516e-01 5.03900877e-01]\n",
      " [7.87313476e-02 1.45950471e+00 9.92169710e-01 7.15260635e-01]\n",
      " [1.08662104e+00 1.09259558e+00 1.00597925e+00 1.58039455e-01]\n",
      " [1.12281936e+00 1.74075822e+00 6.32753309e-01 2.18613240e+00]\n",
      " [1.27327593e+00 1.14962685e+00 8.58677450e-01 5.99973494e-01]\n",
      " [1.19504085e+00 1.64407902e-01 4.58200672e-01 7.53689682e-01]\n",
      " [1.56070228e+00 6.44151097e-01 2.96721070e-01 3.99181724e-01]\n",
      " [3.04095087e-01 1.01785484e+00 8.35293289e-01 4.65471830e-01]\n",
      " [5.90353742e-01 5.45743351e-03 7.52804279e-01 4.95254341e-01]\n",
      " [2.83251860e-01 1.10885917e+00 3.28943340e-01 9.56402904e-01]\n",
      " [4.75920341e-01 1.54938929e-01 9.69153803e-01 3.03109107e-01]\n",
      " [1.66912209e+00 8.00427206e-01 1.14407469e+00 2.07949180e+00]\n",
      " [6.20538471e-01 1.36705448e+00 9.18150553e-01 2.45465537e-01]\n",
      " [3.21989902e-02 1.50027239e+00 2.87882962e-01 7.53689682e-01]\n",
      " [1.58037782e+00 9.18609994e-01 6.74181942e-01 1.29169634e+00]\n",
      " [1.79152496e-01 3.38393492e-01 1.86244718e-01 2.15683025e-01]\n",
      " [2.97264113e-01 3.58777332e-01 6.72064478e-03 7.25348259e-02]\n",
      " [7.16288868e-01 8.43869246e-01 8.62912377e-01 1.38824932e-01]\n",
      " [4.82926468e-01 3.58777332e-01 2.28041604e-01 1.68607443e-01]\n",
      " [1.92172214e-01 9.11815380e-01 1.06582061e+00 7.64257669e-01]\n",
      " [3.48467222e-01 5.89794189e-01 1.15788424e+00 4.07828260e-01]\n",
      " [1.02123053e+00 1.35758551e+00 2.49704176e+00 4.07828260e-01]\n",
      " [1.50798117e+00 9.66172288e-01 4.12168859e-01 1.15719467e+00]\n",
      " [6.97781017e-01 1.23528247e+00 5.13438849e-01 3.50184689e-01]\n",
      " [7.98202165e-01 1.49264068e-02 1.24497643e+00 5.91326959e-01]\n",
      " [1.60273904e+00 8.68373340e-01 1.11185242e+00 1.87821967e-01]\n",
      " [1.13315340e+00 8.00427206e-01 5.59470662e-01 1.08033658e+00]\n",
      " [2.03849092e-01 1.68528156e-01 7.75451931e-01 9.17493494e-02]\n",
      " [1.48813048e+00 2.22885063e-01 6.23915201e-01 1.23405277e+00]\n",
      " [2.49388915e-01 1.10618481e+00 8.17248818e-01 4.46257307e-01]\n",
      " [8.79940308e-01 1.35758551e+00 8.03439274e-01 4.84686354e-01]\n",
      " [1.51633014e+00 1.73396361e+00 5.17673775e-01 2.49356478e+00]\n",
      " [1.18353913e+00 4.63370894e-01 4.72010216e-01 1.18697718e+00]\n",
      " [2.70407294e-01 1.05862252e+00 2.13863806e-01 4.46257307e-01]\n",
      " [1.51399477e+00 1.43232626e+00 3.15502050e-01 4.27042783e-01]\n",
      " [2.16693657e-01 9.09141021e-01 5.96296113e-01 2.73326596e-01]\n",
      " [1.11601758e-01 1.41194241e+00 1.02439198e+00 6.76831588e-01]\n",
      " [8.34400486e-01 1.22169324e+00 1.45184340e-01 3.50184689e-01]\n",
      " [1.06075676e+00 1.20130940e+00 3.93111688e-02 1.02269301e+00]\n",
      " [1.64127273e+00 1.33308141e+00 1.89862818e+00 2.33984859e+00]\n",
      " [1.24659427e+00 1.41349702e-01 2.55016247e-02 6.87399576e-01]\n",
      " [6.76762637e-01 1.47576830e+00 5.04232486e-01 1.64812575e+00]\n",
      " [8.80728498e-02 1.44591548e+00 1.82009791e-01 7.15260635e-01]\n",
      " [5.14454038e-01 3.61451692e-01 5.68677025e-01 6.29756005e-01]\n",
      " [1.62258973e+00 6.44151097e-01 1.23613832e+00 3.60752677e-01]\n",
      " [1.49863967e+00 7.66454138e-01 3.29311594e-01 1.40698348e+00]\n",
      " [1.25576062e+00 1.20398376e+00 1.13947151e+00 6.19188018e-01]\n",
      " [8.35393020e-01 8.54784113e-01 1.13026515e+00 7.92118728e-01]\n",
      " [1.51615499e+00 1.31002321e+00 4.81492770e-02 1.56069967e+00]\n",
      " [2.30705910e-01 1.26513528e+00 1.24074150e+00 1.07169004e+00]\n",
      " [3.10313024e-02 8.30280019e-01 1.13026515e+00 6.29756005e-01]\n",
      " [1.27094056e+00 1.33720167e+00 7.71217005e-01 1.23405277e+00]\n",
      " [6.17035408e-01 1.25566631e+00 1.03359834e+00 8.30547775e-01]\n",
      " [3.49810063e-01 9.56703315e-01 1.11185242e+00 2.34897549e-01]\n",
      " [1.59456522e+00 1.26513528e+00 1.64085003e+00 2.20534693e+00]\n",
      " [9.93206022e-01 1.00426561e+00 1.00597925e+00 1.19610408e-01]]\n"
     ]
    }
   ],
   "source": [
    "# finding out the z score\n",
    "from scipy import stats\n",
    "import numpy as np\n",
    "\n",
    "z = np.abs(stats.zscore(sale))\n",
    "print(z)"
   ]
  },
  {
   "cell_type": "code",
   "execution_count": 20,
   "metadata": {},
   "outputs": [
    {
     "name": "stdout",
     "output_type": "stream",
     "text": [
      "[ 16 101]\n",
      "[2 2]\n"
     ]
    }
   ],
   "source": [
    "print(np.where(z > 3)[0])\n",
    "print(np.where(z > 3)[1])"
   ]
  },
  {
   "cell_type": "code",
   "execution_count": 21,
   "metadata": {},
   "outputs": [],
   "source": [
    "index = (np.where(z > 3)[0])"
   ]
  },
  {
   "cell_type": "code",
   "execution_count": 22,
   "metadata": {},
   "outputs": [
    {
     "data": {
      "text/plain": [
       "(198, 4)"
      ]
     },
     "execution_count": 22,
     "metadata": {},
     "output_type": "execute_result"
    }
   ],
   "source": [
    "sale = sale.drop(sale.index[index])\n",
    "sale.shape"
   ]
  },
  {
   "cell_type": "markdown",
   "metadata": {},
   "source": [
    "### After removing the skewness from the dataset we can see that there are 198 rows and 4 columns in the dataset."
   ]
  },
  {
   "cell_type": "code",
   "execution_count": 23,
   "metadata": {},
   "outputs": [],
   "source": [
    "# dividing features and label\n",
    "\n",
    "x = sale.drop('sales',axis=1)\n",
    "y = sale.sales"
   ]
  },
  {
   "cell_type": "code",
   "execution_count": 24,
   "metadata": {
    "scrolled": true
   },
   "outputs": [
    {
     "data": {
      "text/plain": [
       "array([[ 9.78697339e-01,  9.87717793e-01,  1.93299778e+00],\n",
       "       [-1.19901165e+00,  1.08953250e+00,  7.51312752e-01],\n",
       "       [-1.51933199e+00,  1.53751718e+00,  1.93790103e+00],\n",
       "       [ 5.64563564e-02,  1.22528543e+00,  1.40834924e+00],\n",
       "       [ 4.00243389e-01, -8.44946842e-01,  1.40344598e+00],\n",
       "       [-1.61906543e+00,  1.74114659e+00,  2.21738670e+00],\n",
       "       [-1.04647815e+00,  6.48335453e-01, -3.07790837e-01],\n",
       "       [-3.10797368e-01, -2.47633924e-01, -8.91278462e-01],\n",
       "       [-1.62023876e+00, -1.43547211e+00, -1.41102374e+00],\n",
       "       [ 6.23176960e-01, -1.40153388e+00, -4.20565756e-01],\n",
       "       [-9.45571378e-01, -1.18432918e+00, -2.73468035e-01],\n",
       "       [ 7.98003813e-01,  5.10225353e-02, -1.26392602e+00],\n",
       "       [-1.44189191e+00,  8.04451330e-01,  1.77119028e+00],\n",
       "       [-5.77144318e-01, -1.06215154e+00, -1.10702179e+00],\n",
       "       [ 6.73630347e-01,  6.55123100e-01,  7.95442068e-01],\n",
       "       [ 5.71550238e-01,  1.65969483e+00,  1.13376683e+00],\n",
       "       [ 1.58061798e+00,  1.10989544e+00,  1.27596129e+00],\n",
       "       [-9.09198006e-01, -1.86545103e-01, -5.62760219e-01],\n",
       "       [ 7.17630394e-03,  4.42348885e-02, -5.23534161e-01],\n",
       "       [ 8.41417193e-01,  3.02165467e-01,  1.15828311e+00],\n",
       "       [ 1.06435076e+00, -1.23184271e+00, -3.07790837e-01],\n",
       "       [-1.56626537e+00, -4.98776855e-01,  9.71959333e-01],\n",
       "       [ 9.57577316e-01, -4.30900387e-01, -1.75402888e-01],\n",
       "       [-9.90158092e-01, -7.22769200e-01, -5.62760219e-01],\n",
       "       [ 1.36355108e+00, -1.34044506e+00, -5.03921131e-01],\n",
       "       [-4.44504177e-02,  4.10767816e-01, -8.42245889e-01],\n",
       "       [ 1.09603080e+00, -4.44475681e-01, -3.37210381e-01],\n",
       "       [ 1.19811091e+00,  2.61439586e-01, -3.37210381e-01],\n",
       "       [-8.92771321e-01, -4.91989208e-01,  5.40472686e-01],\n",
       "       [ 1.71555146e+00,  3.42891348e-01,  6.58150862e-01],\n",
       "       [-3.96450793e-01, -3.96962153e-01,  4.32601024e-01],\n",
       "       [-5.80664322e-01, -1.47619799e+00,  1.09208914e-02],\n",
       "       [ 1.39523112e+00, -2.20483337e-01, -1.44534654e+00],\n",
       "       [-5.98264341e-01, -1.48298564e+00, -1.09721527e+00],\n",
       "       [ 1.68973810e+00, -1.29971918e+00, -1.04327944e+00],\n",
       "       [ 1.41048447e+00,  1.39497660e+00, -1.21489345e+00],\n",
       "       [-8.44664603e-01,  1.77508482e+00,  7.80732296e-01],\n",
       "       [-1.21543833e+00,  2.34288999e-01,  2.60987017e-01],\n",
       "       [ 9.54057313e-01,  9.80930146e-01,  1.08986039e-01],\n",
       "       [ 6.54856994e-01, -6.43674603e-02,  8.93730091e-02],\n",
       "       [ 3.55656675e-01,  6.89061334e-01,  4.37504281e-01],\n",
       "       [ 1.72376480e+00,  3.02165467e-01, -1.37179768e+00],\n",
       "       [ 7.06483716e-01, -1.00785037e+00, -1.65596373e-01],\n",
       "       [-1.42663856e+00,  1.66412531e-01,  6.63054120e-01],\n",
       "       [ 3.33363318e-01, -5.07921667e-02,  8.44697517e-02],\n",
       "       [-6.68664416e-01, -9.06035663e-01,  2.90406561e-01],\n",
       "       [ 1.09368413e+00,  1.23886072e+00, -5.52953705e-01],\n",
       "       [ 9.44670636e-01, -5.05564502e-01,  9.86669105e-01],\n",
       "       [-9.36184701e-01, -7.83858021e-01,  3.44342392e-01],\n",
       "       [ 6.23176960e-01, -1.36759565e+00,  2.36470730e-01],\n",
       "       [-5.43117616e-01, -9.26398603e-01, -1.28353905e+00],\n",
       "       [ 8.17950501e-01,  1.25243602e+00,  4.81633598e-01],\n",
       "       [ 4.21363412e-01,  1.55788012e+00,  1.41815575e+00],\n",
       "       [ 1.36120441e+00,  3.76829582e-01, -6.80438396e-01],\n",
       "       [ 6.12616949e-01,  1.77508482e+00,  1.48189810e+00],\n",
       "       [-1.63549211e+00,  3.29316054e-01,  5.69892230e-01],\n",
       "       [-1.23063835e-01, -2.74784511e-01, -6.46115594e-01],\n",
       "       [ 7.52243764e-01,  1.78866012e+00,  3.88471708e-01],\n",
       "       [ 7.51070430e-01,  4.24343109e-01, -1.00405338e+00],\n",
       "       [-1.09341154e+00, -1.44225976e+00, -4.10759241e-01],\n",
       "       [ 1.34477773e+00,  1.32031249e+00,  1.22202546e+00],\n",
       "       [ 1.08664412e+00, -5.25927442e-01, -1.21467057e-01],\n",
       "       [-5.16130920e-01,  4.31130756e-01, -1.04818270e+00],\n",
       "       [-1.82903899e-01,  1.32710013e+00, -4.30149395e-02],\n",
       "       [-9.11544675e-01, -9.46761544e-01, -1.41592700e+00],\n",
       "       [-1.35154514e+00,  9.17484161e-02, -1.35218465e+00],\n",
       "       [-8.66904627e-02, -5.93803910e-01, -9.59924065e-01],\n",
       "       [ 1.06435076e+00,  2.88590173e-01, -9.20698006e-01],\n",
       "       [ 8.22643839e-01,  1.40176425e+00, -1.26370315e-01],\n",
       "       [ 6.14963618e-01,  4.99007224e-01,  4.37504281e-01],\n",
       "       [-4.32824165e-01, -6.07379204e-01,  9.42762665e-02],\n",
       "       [-1.40669187e+00,  6.61910747e-01, -5.13727646e-01],\n",
       "       [-2.02850586e-01, -1.19111683e+00,  7.46632370e-02],\n",
       "       [ 7.82750463e-01,  9.17484161e-02, -8.17729602e-01],\n",
       "       [-1.52285199e+00,  1.38818895e+00,  2.92345576e+00],\n",
       "       [-1.39847853e+00, -1.46941035e+00, -4.45082043e-01],\n",
       "       [-3.07277364e-01,  3.56466641e-01, -7.63793771e-01],\n",
       "       [-1.65778547e+00,  4.51493696e-01, -9.99150124e-01],\n",
       "       [-3.60077421e-01, -1.05536389e+00, -3.27403866e-01],\n",
       "       [-8.24717916e-01,  2.34288999e-01, -3.66629925e-01],\n",
       "       [ 1.09251079e+00, -1.29971918e+00,  3.49245649e-01],\n",
       "       [-8.37624596e-01, -2.00120396e-01,  1.33502325e-01],\n",
       "       [-9.18584682e-01,  1.44249013e+00,  2.85503303e-01],\n",
       "       [ 7.83923798e-01,  1.34067543e+00,  1.97244671e-01],\n",
       "       [ 5.45736878e-01, -3.29085685e-01,  1.76138377e+00],\n",
       "       [-8.25891250e-01,  2.88590173e-01, -6.75535139e-01],\n",
       "       [-4.22264154e-01,  1.17777190e+00,  1.63880233e+00],\n",
       "       [-6.85091100e-01,  1.52837237e-01,  2.13893458e+00],\n",
       "       [-4.32824165e-01,  1.66648247e+00,  1.06021797e+00],\n",
       "       [-1.45357192e-01, -1.24541800e+00, -1.00405338e+00],\n",
       "       [-1.38557185e+00, -1.47619799e+00,  1.58018612e-01],\n",
       "       [ 8.33203850e-01,  6.95848981e-01,  1.43286552e+00],\n",
       "       [ 1.22275093e+00,  8.99478385e-01,  2.08499875e+00],\n",
       "       [-4.60984195e-01, -6.27742144e-01, -9.25601264e-01],\n",
       "       [ 1.94909837e-01,  5.66883692e-01,  1.13376683e+00],\n",
       "       [ 5.97363599e-01, -1.34044506e+00, -1.17076413e+00],\n",
       "       [ 4.48350107e-01, -1.52606869e-01, -3.81339697e-01],\n",
       "       [ 1.67800475e+00,  1.29316190e+00,  1.05041145e+00],\n",
       "       [-1.34797181e-01,  1.25243602e+00,  7.90538811e-01],\n",
       "       [ 8.88350576e-01, -1.28614388e+00,  9.81765848e-01],\n",
       "       [ 1.56653796e+00, -8.92460369e-01, -4.10759241e-01],\n",
       "       [ 4.83550145e-01, -4.10537447e-01, -5.82373249e-01],\n",
       "       [ 1.07373744e+00,  7.50150155e-01, -1.20018368e+00],\n",
       "       [-1.03117147e-01,  1.57145542e+00,  1.43286552e+00],\n",
       "       [-1.42781189e+00, -8.31371548e-01, -3.78888068e-03],\n",
       "       [-6.60451074e-01, -1.55764976e+00, -3.22500609e-01],\n",
       "       [-1.56743871e+00, -1.55086211e+00, -2.04822432e-01],\n",
       "       [ 1.27555099e+00,  2.47864292e-01, -1.19037716e+00],\n",
       "       [ 9.28243952e-01, -1.02142566e+00,  1.31028409e+00],\n",
       "       [ 1.11480415e+00,  1.00129309e+00, -3.22500609e-01],\n",
       "       [ 3.40403326e-01, -5.32715089e-01, -1.34237814e+00],\n",
       "       [ 7.38163749e-01, -1.79757456e-01, -9.35407778e-01],\n",
       "       [-8.03597893e-01,  1.59860600e+00,  2.31567472e-01],\n",
       "       [-8.39971265e-01,  7.97663683e-01,  1.12396031e+00],\n",
       "       [-8.78637973e-02, -6.07379204e-01, -2.04822432e-01],\n",
       "       [-8.24717916e-01, -1.52371152e+00, -7.34374227e-01],\n",
       "       [-2.46263966e-01,  9.26628972e-01,  2.42332351e+00],\n",
       "       [-1.49351863e+00, -4.91989208e-01, -3.66629925e-01],\n",
       "       [-6.32237711e-02,  2.41076646e-01,  8.05248583e-01],\n",
       "       [-1.50055864e+00, -1.05093341e-01,  1.01118539e+00],\n",
       "       [ 9.07123929e-01, -1.41510917e+00, -6.95148168e-01],\n",
       "       [-2.76770665e-01,  7.70513096e-01, -8.52052403e-01],\n",
       "       [ 9.71657331e-01,  6.14397219e-01,  2.17816064e+00],\n",
       "       [-6.97997781e-01, -7.77070374e-01, -1.90112660e-01],\n",
       "       [-1.62962544e+00,  1.06238191e+00,  1.02099191e+00],\n",
       "       [-7.80131201e-01,  1.06545486e-03, -1.00895664e+00],\n",
       "       [ 8.63710550e-01,  1.74793423e+00, -1.30315208e+00],\n",
       "       [-1.02183813e+00, -7.63495080e-01,  6.53247605e-01],\n",
       "       [-1.71293220e+00,  1.10989544e+00, -1.03347293e+00],\n",
       "       [ 1.39053778e+00, -1.38117094e+00,  6.48344348e-01],\n",
       "       [-1.62258543e+00,  2.68227233e-01, -1.35708791e+00],\n",
       "       [ 8.57843877e-01,  6.95848981e-01,  7.51312752e-01],\n",
       "       [-1.28818508e+00,  1.04201897e+00,  1.75648051e+00],\n",
       "       [-1.15442493e+00,  1.61218130e+00, -1.04327944e+00],\n",
       "       [-1.42077188e+00,  1.06916955e+00, -1.00405338e+00],\n",
       "       [ 1.49027122e+00,  3.83617228e-01,  1.46718833e+00],\n",
       "       [-1.21661167e+00,  1.79987824e-01, -4.54888558e-01],\n",
       "       [ 4.48350107e-01,  1.40176425e+00, -1.37670094e+00],\n",
       "       [-8.59917953e-01, -4.24112740e-01, -8.27536117e-01],\n",
       "       [ 5.51603551e-01,  8.24814270e-01,  2.24680625e+00],\n",
       "       [ 8.66057219e-01,  6.75486041e-01,  3.98278223e-01],\n",
       "       [-4.93837563e-01, -1.19111683e+00,  2.26664215e-01],\n",
       "       [-5.92397668e-01, -5.73440970e-01,  4.47310796e-01],\n",
       "       [-7.49571169e-02, -1.44904741e+00, -1.01876315e+00],\n",
       "       [ 1.09603080e+00, -1.08251448e+00, -1.03347293e+00],\n",
       "       [ 1.13240417e+00,  1.74793423e+00,  7.12086693e-01],\n",
       "       [-1.27527840e+00,  1.15740896e+00, -8.76568690e-01],\n",
       "       [-1.19666498e+00,  1.73200178e-01, -4.49985300e-01],\n",
       "       [ 1.57240464e+00, -6.34529791e-01,  3.54148906e-01],\n",
       "       [-3.01410691e-01, -1.00785037e+00,  9.27830017e-01],\n",
       "       [ 5.97363599e-01,  3.50900771e-03, -7.63793771e-01],\n",
       "       [ 2.88776604e-01,  1.11668308e+00,  3.88471708e-01],\n",
       "       [ 4.82376810e-01, -1.45819222e-01, -9.94246867e-01],\n",
       "       [-1.67303882e+00, -7.90645668e-01, -1.18057065e+00],\n",
       "       [-6.19384363e-01,  1.37461366e+00,  1.01608865e+00],\n",
       "       [ 3.65096685e-02, -1.48977329e+00, -2.68564778e-01],\n",
       "       [-1.58386539e+00,  9.26628972e-01,  7.56216010e-01],\n",
       "       [-1.75863891e-01, -3.29085685e-01,  2.36470730e-01],\n",
       "       [ 3.02856619e-01, -3.49448626e-01,  4.52436929e-02],\n",
       "       [-7.15597799e-01,  8.51964857e-01,  9.57249561e-01],\n",
       "       [ 4.89416818e-01, -3.49448626e-01, -2.04822432e-01],\n",
       "       [ 1.97256506e-01,  9.19841325e-01, -1.09721527e+00],\n",
       "       [-3.45997406e-01, -5.80228617e-01, -1.19528042e+00],\n",
       "       [ 1.03032406e+00, -1.34723270e+00,  2.69790592e+00],\n",
       "       [-1.51111865e+00,  9.74142500e-01, -4.00952727e-01],\n",
       "       [ 7.05310381e-01, -1.22505506e+00, -5.08824388e-01],\n",
       "       [ 8.06217155e-01,  2.38719481e-02,  1.36421992e+00],\n",
       "       [ 1.61464468e+00, -8.58522135e-01, -1.14624784e+00],\n",
       "       [-1.13447825e+00, -7.90645668e-01, -5.57856962e-01],\n",
       "       [ 2.08989852e-01, -1.59394515e-01,  8.64087671e-01],\n",
       "       [-1.49117196e+00, -2.13695690e-01, -6.26502565e-01],\n",
       "       [ 2.54749901e-01, -1.09608977e+00, -8.32439374e-01],\n",
       "       [ 8.88350576e-01, -1.34723270e+00, -8.17729602e-01],\n",
       "       [ 1.52781792e+00,  1.74114659e+00,  5.89505259e-01],\n",
       "       [ 1.19341757e+00,  4.71856637e-01, -4.64695072e-01],\n",
       "       [ 2.75869923e-01, -1.04857625e+00,  2.65890274e-01],\n",
       "       [ 1.52547125e+00, -1.42189682e+00, -2.97984322e-01],\n",
       "       [ 2.21896533e-01, -8.99248016e-01, -5.97083021e-01],\n",
       "       [ 1.16296420e-01, -1.40153388e+00, -1.05308596e+00],\n",
       "       [ 8.42590527e-01, -1.21147977e+00, -1.16563800e-01],\n",
       "       [-1.06173150e+00, -1.19111683e+00, -3.78888068e-03],\n",
       "       [ 1.65336472e+00,  1.34067543e+00,  2.06048247e+00],\n",
       "       [ 1.25677764e+00, -1.32243928e-01,  1.09208914e-02],\n",
       "       [ 6.84190358e-01,  1.48321601e+00, -4.99017874e-01],\n",
       "       [-8.43437935e-02, -1.43547211e+00, -1.55789859e-01],\n",
       "       [ 5.21096851e-01,  3.70041935e-01, -5.67663477e-01],\n",
       "       [ 1.63459137e+00, -6.34529791e-01, -1.27863579e+00],\n",
       "       [-1.50173197e+00, -7.56707434e-01, -3.12694094e-01],\n",
       "       [-1.25767838e+00,  1.21171014e+00, -1.17566739e+00],\n",
       "       [-8.35277927e-01, -8.44946842e-01, -1.16586087e+00],\n",
       "       [-1.51933199e+00, -1.29971918e+00,  8.93730091e-02],\n",
       "       [ 2.35976548e-01,  1.27279896e+00, -1.28353905e+00],\n",
       "       [ 3.53363339e-02,  8.38389564e-01, -1.16586087e+00],\n",
       "       [-1.27293173e+00, -1.32686976e+00, -7.83406800e-01],\n",
       "       [-6.15864360e-01, -1.24541800e+00, -1.06289247e+00],\n",
       "       [ 3.55656675e-01, -9.46761544e-01, -1.14624784e+00],\n",
       "       [ 1.60643134e+00,  1.27279896e+00,  1.78590005e+00],\n",
       "       [ 1.00216403e+00, -9.94275071e-01, -1.03347293e+00]])"
      ]
     },
     "execution_count": 24,
     "metadata": {},
     "output_type": "execute_result"
    }
   ],
   "source": [
    "# standard scaler\n",
    "\n",
    "scalar = StandardScaler()\n",
    "x_scaled = scalar.fit_transform(x)\n",
    "x_scaled"
   ]
  },
  {
   "cell_type": "markdown",
   "metadata": {},
   "source": [
    "### VIF : variance inflation factor"
   ]
  },
  {
   "cell_type": "code",
   "execution_count": 25,
   "metadata": {
    "scrolled": true
   },
   "outputs": [
    {
     "data": {
      "text/html": [
       "<div>\n",
       "<style scoped>\n",
       "    .dataframe tbody tr th:only-of-type {\n",
       "        vertical-align: middle;\n",
       "    }\n",
       "\n",
       "    .dataframe tbody tr th {\n",
       "        vertical-align: top;\n",
       "    }\n",
       "\n",
       "    .dataframe thead th {\n",
       "        text-align: right;\n",
       "    }\n",
       "</style>\n",
       "<table border=\"1\" class=\"dataframe\">\n",
       "  <thead>\n",
       "    <tr style=\"text-align: right;\">\n",
       "      <th></th>\n",
       "      <th>vif</th>\n",
       "      <th>Features</th>\n",
       "    </tr>\n",
       "  </thead>\n",
       "  <tbody>\n",
       "    <tr>\n",
       "      <th>0</th>\n",
       "      <td>1.003449</td>\n",
       "      <td>TV</td>\n",
       "    </tr>\n",
       "    <tr>\n",
       "      <th>1</th>\n",
       "      <td>1.132216</td>\n",
       "      <td>radio</td>\n",
       "    </tr>\n",
       "    <tr>\n",
       "      <th>2</th>\n",
       "      <td>1.132617</td>\n",
       "      <td>newspaper</td>\n",
       "    </tr>\n",
       "  </tbody>\n",
       "</table>\n",
       "</div>"
      ],
      "text/plain": [
       "        vif   Features\n",
       "0  1.003449         TV\n",
       "1  1.132216      radio\n",
       "2  1.132617  newspaper"
      ]
     },
     "execution_count": 25,
     "metadata": {},
     "output_type": "execute_result"
    }
   ],
   "source": [
    "# finding variance inflation factor(vif)\n",
    "\n",
    "vif = pd.DataFrame()\n",
    "vif[\"vif\"] = [variance_inflation_factor(x_scaled,i) for i in range (x_scaled.shape[1])]\n",
    "vif[\"Features\"] = x.columns\n",
    "vif"
   ]
  },
  {
   "cell_type": "markdown",
   "metadata": {},
   "source": [
    "### From the above table we can say that no features are strongly related to each other as vif score is not more that 5 for any cloums. So there is no need to drop any columns. We are good to go for model prediction."
   ]
  },
  {
   "cell_type": "markdown",
   "metadata": {},
   "source": [
    "## Model Building"
   ]
  },
  {
   "cell_type": "code",
   "execution_count": 26,
   "metadata": {},
   "outputs": [],
   "source": [
    "x_train,x_test,y_train,y_test = train_test_split(x_scaled,y,test_size=0.25,random_state = 370)"
   ]
  },
  {
   "cell_type": "markdown",
   "metadata": {},
   "source": [
    "## Linear Regression model"
   ]
  },
  {
   "cell_type": "code",
   "execution_count": 27,
   "metadata": {},
   "outputs": [
    {
     "data": {
      "text/plain": [
       "LinearRegression()"
      ]
     },
     "execution_count": 27,
     "metadata": {},
     "output_type": "execute_result"
    }
   ],
   "source": [
    "rg = LinearRegression()\n",
    "rg.fit(x_train,y_train)"
   ]
  },
  {
   "cell_type": "code",
   "execution_count": 28,
   "metadata": {},
   "outputs": [
    {
     "data": {
      "text/plain": [
       "0.8867073043725643"
      ]
     },
     "execution_count": 28,
     "metadata": {},
     "output_type": "execute_result"
    }
   ],
   "source": [
    "# adjusted r2 score\n",
    "rg.score(x_train,y_train)"
   ]
  },
  {
   "cell_type": "code",
   "execution_count": 29,
   "metadata": {},
   "outputs": [
    {
     "data": {
      "text/plain": [
       "0.9018690540874629"
      ]
     },
     "execution_count": 29,
     "metadata": {},
     "output_type": "execute_result"
    }
   ],
   "source": [
    "rg.score(x_test,y_test)"
   ]
  },
  {
   "cell_type": "code",
   "execution_count": 30,
   "metadata": {},
   "outputs": [],
   "source": [
    "y_pred = rg.predict(x_test)"
   ]
  },
  {
   "cell_type": "code",
   "execution_count": 31,
   "metadata": {
    "scrolled": true
   },
   "outputs": [
    {
     "data": {
      "image/png": "[encoded data removed]",
      "text/plain": [
       "<Figure size 432x288 with 1 Axes>"
      ]
     },
     "metadata": {
      "needs_background": "light"
     },
     "output_type": "display_data"
    }
   ],
   "source": [
    "plt.scatter(y_test,y_pred)\n",
    "plt.xlabel('actual sales')\n",
    "plt.ylabel('predicted sales')\n",
    "plt.title('actual vs model predicted')\n",
    "plt.show()"
   ]
  },
  {
   "cell_type": "markdown",
   "metadata": {},
   "source": [
    "### The above scatter plot shows the relationship between the actual sales and predicted sales."
   ]
  },
  {
   "cell_type": "markdown",
   "metadata": {},
   "source": [
    "### Linear Regression model - 90%"
   ]
  },
  {
   "cell_type": "markdown",
   "metadata": {},
   "source": [
    "## Random Forest Regressor Model"
   ]
  },
  {
   "cell_type": "code",
   "execution_count": 32,
   "metadata": {},
   "outputs": [
    {
     "data": {
      "text/plain": [
       "RandomForestRegressor()"
      ]
     },
     "execution_count": 32,
     "metadata": {},
     "output_type": "execute_result"
    }
   ],
   "source": [
    "rf = RandomForestRegressor(n_estimators=100,)\n",
    "rf.fit(x_train,y_train)"
   ]
  },
  {
   "cell_type": "code",
   "execution_count": 33,
   "metadata": {},
   "outputs": [],
   "source": [
    "output = rf.predict(x_test)"
   ]
  },
  {
   "cell_type": "code",
   "execution_count": 34,
   "metadata": {},
   "outputs": [
    {
     "data": {
      "text/plain": [
       "0.9696616200973914"
      ]
     },
     "execution_count": 34,
     "metadata": {},
     "output_type": "execute_result"
    }
   ],
   "source": [
    "from sklearn import metrics\n",
    "r_square = metrics.r2_score(y_test,output)\n",
    "r_square"
   ]
  },
  {
   "cell_type": "markdown",
   "metadata": {},
   "source": [
    "### Random Forest Regressor Model - 96.9%"
   ]
  },
  {
   "cell_type": "markdown",
   "metadata": {},
   "source": [
    "## Decision Tree Regressor Model"
   ]
  },
  {
   "cell_type": "code",
   "execution_count": 76,
   "metadata": {
    "scrolled": true
   },
   "outputs": [
    {
     "data": {
      "text/plain": [
       "DecisionTreeRegressor(random_state=200)"
      ]
     },
     "execution_count": 76,
     "metadata": {},
     "output_type": "execute_result"
    }
   ],
   "source": [
    "dt = DecisionTreeRegressor(random_state = 200)\n",
    "dt.fit(x_train,y_train)"
   ]
  },
  {
   "cell_type": "code",
   "execution_count": 77,
   "metadata": {},
   "outputs": [],
   "source": [
    "output1 = dt.predict(x_test)"
   ]
  },
  {
   "cell_type": "code",
   "execution_count": 78,
   "metadata": {},
   "outputs": [
    {
     "data": {
      "text/plain": [
       "0.9565376812745509"
      ]
     },
     "execution_count": 78,
     "metadata": {},
     "output_type": "execute_result"
    }
   ],
   "source": [
    "from sklearn import metrics\n",
    "r_square = metrics.r2_score(y_test,output1)\n",
    "r_square"
   ]
  },
  {
   "cell_type": "markdown",
   "metadata": {},
   "source": [
    "### Decision Tree Regressor Model - 95.6%\n"
   ]
  },
  {
   "cell_type": "markdown",
   "metadata": {},
   "source": [
    "# Conclusion"
   ]
  },
  {
   "cell_type": "markdown",
   "metadata": {},
   "source": [
    "### According to the above 3 model prediction the best model is Random Forest Regressor Model -  96.9%"
   ]
  },
  {
   "cell_type": "markdown",
   "metadata": {},
   "source": [
    "# Saving the models"
   ]
  },
  {
   "cell_type": "code",
   "execution_count": 6,
   "metadata": {},
   "outputs": [],
   "source": [
    "import pickle"
   ]
  },
  {
   "cell_type": "code",
   "execution_count": 35,
   "metadata": {},
   "outputs": [],
   "source": [
    "# saving the Random Forest Regressor Model\n",
    "\n",
    "filename = 'finalized_model.pickle'\n",
    "pickle.dump(rf,open(filename,'wb'))\n",
    "\n",
    "loaded_model = pickle.load(open(filename,'rb'))"
   ]
  }
 ],
 "metadata": {
  "kernelspec": {
   "display_name": "Python 3",
   "language": "python",
   "name": "python3"
  },
  "language_info": {
   "codemirror_mode": {
    "name": "ipython",
    "version": 3
   },
   "file_extension": ".py",
   "mimetype": "text/x-python",
   "name": "python",
   "nbconvert_exporter": "python",
   "pygments_lexer": "ipython3",
   "version": "3.8.5"
  }
 },
 "nbformat": 4,
 "nbformat_minor": 4
}
